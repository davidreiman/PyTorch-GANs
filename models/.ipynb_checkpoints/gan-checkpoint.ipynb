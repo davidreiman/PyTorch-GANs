{
 "cells": [
  {
   "cell_type": "code",
   "execution_count": 1,
   "metadata": {
    "collapsed": true
   },
   "outputs": [],
   "source": [
    "%matplotlib inline\n",
    "import numpy as np\n",
    "import seaborn as sns\n",
    "import torch\n",
    "import torch.nn as nn\n",
    "import torchvision\n",
    "import torchvision.transforms as transforms\n",
    "\n",
    "from tqdm import tqdm\n",
    "from matplotlib import pyplot as plt"
   ]
  },
  {
   "cell_type": "code",
   "execution_count": 2,
   "metadata": {
    "collapsed": true
   },
   "outputs": [],
   "source": [
    "plt.style.use('seaborn')"
   ]
  },
  {
   "cell_type": "code",
   "execution_count": 3,
   "metadata": {
    "collapsed": true
   },
   "outputs": [],
   "source": [
    "# Hyperparameters\n",
    "\n",
    "epochs = 100\n",
    "batch_size = 32\n",
    "learning_rate = 0.001\n",
    "latent_size = 100\n",
    "image_size = 784"
   ]
  },
  {
   "cell_type": "code",
   "execution_count": 4,
   "metadata": {
    "collapsed": true
   },
   "outputs": [],
   "source": [
    "class Generator(nn.Module):\n",
    "    def __init__(self, input_size, output_size):\n",
    "        super(Generator, self).__init__()\n",
    "        self.input_size = input_size\n",
    "        self.output_size = output_size\n",
    "        \n",
    "        # Layers\n",
    "        self.fc1 = nn.Linear(input_size, 512)\n",
    "        self.fc2 = nn.Linear(512, 512)\n",
    "        self.fc3 = nn.Linear(512, 512)\n",
    "        self.output = nn.Linear(512, output_size)\n",
    "        \n",
    "        # Activations\n",
    "        self.relu = nn.ReLU()\n",
    "        self.sigmoid = nn.Sigmoid()\n",
    "    \n",
    "    def forward(self, x):\n",
    "        out = self.fc1(x)\n",
    "        out = self.relu(out)\n",
    "        out = self.fc2(out)\n",
    "        out = self.relu(out)\n",
    "        out = self.fc3(out)\n",
    "        out = self.relu(out)\n",
    "        out = self.output(out)\n",
    "        out = self.sigmoid(out)\n",
    "        \n",
    "        return out"
   ]
  },
  {
   "cell_type": "code",
   "execution_count": 5,
   "metadata": {
    "collapsed": true
   },
   "outputs": [],
   "source": [
    "class Discriminator(nn.Module):\n",
    "    def __init__(self, input_size):\n",
    "        super(Discriminator, self).__init__()\n",
    "        self.input_size = input_size\n",
    "        \n",
    "        # Layers\n",
    "        self.fc1 = nn.Linear(input_size, 512)\n",
    "        self.fc2 = nn.Linear(512, 512)\n",
    "        self.fc3 = nn.Linear(512, 512)\n",
    "        self.output = nn.Linear(512, 1)\n",
    "        \n",
    "        # Activations\n",
    "        self.relu = nn.ReLU()\n",
    "        self.sigmoid = nn.Sigmoid()\n",
    "    \n",
    "    def forward(self, x):\n",
    "        out = self.fc1(x)\n",
    "        out = self.relu(out)\n",
    "        out = self.fc2(out)\n",
    "        out = self.relu(out)\n",
    "        out = self.fc3(out)\n",
    "        out = self.relu(out)\n",
    "        out = self.output(out)\n",
    "        out = self.sigmoid(out)\n",
    "        \n",
    "        return out"
   ]
  },
  {
   "cell_type": "code",
   "execution_count": 6,
   "metadata": {
    "collapsed": true
   },
   "outputs": [],
   "source": [
    "def get_latent(shape):\n",
    "    z = torch.from_numpy(\n",
    "        np.random.normal(size=shape)).float()\n",
    "        \n",
    "    if torch.cuda.is_available():\n",
    "        z = z.cuda()\n",
    "    \n",
    "    return z"
   ]
  },
  {
   "cell_type": "code",
   "execution_count": 7,
   "metadata": {},
   "outputs": [],
   "source": [
    "# MNIST dataset \n",
    "dataset = torchvision.datasets.MNIST(\n",
    "    root='data', \n",
    "    train=True, \n",
    "    transform=transforms.ToTensor(),  \n",
    "    download=True\n",
    ")\n",
    "\n",
    "# Data loader\n",
    "loader = torch.utils.data.DataLoader(\n",
    "    dataset=dataset, \n",
    "    batch_size=batch_size, \n",
    "    shuffle=True\n",
    ")\n",
    "\n",
    "# Labels\n",
    "one = torch.from_numpy(\n",
    "    np.ones(shape=[batch_size, 1])).float()\n",
    "zero = torch.from_numpy(\n",
    "    np.zeros(shape=[batch_size, 1])).float()"
   ]
  },
  {
   "cell_type": "code",
   "execution_count": 8,
   "metadata": {
    "collapsed": true
   },
   "outputs": [],
   "source": [
    "# Models\n",
    "generator = Generator(latent_size, image_size)\n",
    "discriminator = Discriminator(image_size)"
   ]
  },
  {
   "cell_type": "code",
   "execution_count": 9,
   "metadata": {
    "collapsed": true
   },
   "outputs": [],
   "source": [
    "# Loss and optimizer\n",
    "loss = nn.BCELoss()\n",
    "\n",
    "optimizer_g = torch.optim.Adam(\n",
    "    params=generator.parameters(), \n",
    "    lr=learning_rate\n",
    ")\n",
    "optimizer_d = torch.optim.Adam(\n",
    "    params=discriminator.parameters(), \n",
    "    lr=learning_rate\n",
    ")"
   ]
  },
  {
   "cell_type": "code",
   "execution_count": 10,
   "metadata": {
    "collapsed": true
   },
   "outputs": [],
   "source": [
    "if torch.cuda.is_available():\n",
    "    generator = generator.cuda()\n",
    "    discriminator = discriminator.cuda()\n",
    "    loss = loss.cuda()\n",
    "    one = one.cuda()\n",
    "    zero = zero.cuda()"
   ]
  },
  {
   "cell_type": "code",
   "execution_count": 11,
   "metadata": {},
   "outputs": [
    {
     "name": "stderr",
     "output_type": "stream",
     "text": [
      "  3%|▎         | 64/1875 [00:03<01:34, 19.26it/s]"
     ]
    },
    {
     "name": "stdout",
     "output_type": "stream",
     "text": [
      "Training stopped.\n"
     ]
    }
   ],
   "source": [
    "try:\n",
    "    for epoch in range(epochs):\n",
    "        \n",
    "        pbar = tqdm(\n",
    "            iterable=enumerate(loader), \n",
    "#             desc=\"Example\", \n",
    "            total=int(len(dataset)/batch_size)\n",
    "        )\n",
    "        \n",
    "        for i, (image_real, label) in pbar:\n",
    "\n",
    "            image_real = image_real.view(-1, image_size)\n",
    "\n",
    "            if torch.cuda.is_available():\n",
    "                image_real = image_real.cuda()\n",
    "\n",
    "            # ---------------------\n",
    "            #  Train Discriminator\n",
    "            # ---------------------\n",
    "\n",
    "            for p in discriminator.parameters():\n",
    "                p.requires_grad = True\n",
    "\n",
    "            optimizer_d.zero_grad()\n",
    "\n",
    "            prob_real = discriminator(image_real)\n",
    "            loss_real = loss(prob_real, one)\n",
    "\n",
    "            z = get_latent([batch_size, latent_size])\n",
    "            image_fake = generator(z)\n",
    "\n",
    "            prob_fake = discriminator(image_fake)\n",
    "            loss_fake = loss(prob_fake, zero)\n",
    "\n",
    "            loss_d = 0.5*(loss_real + loss_fake)\n",
    "            loss_d.backward()\n",
    "\n",
    "            optimizer_d.step()\n",
    "\n",
    "            # -----------------\n",
    "            #  Train Generator\n",
    "            # -----------------\n",
    "\n",
    "            for p in discriminator.parameters():\n",
    "                p.requires_grad = False\n",
    "\n",
    "            optimizer_g.zero_grad()\n",
    "            \n",
    "            z = get_latent([batch_size, latent_size])\n",
    "            image_fake = generator(z)\n",
    "            \n",
    "            prob_true = discriminator(image_fake)\n",
    "            loss_g = loss(prob_true, one)\n",
    "            loss_g.backward()\n",
    "\n",
    "            optimizer_g.step()\n",
    "            \n",
    "except KeyboardInterrupt:\n",
    "    print(\"Training stopped.\")"
   ]
  },
  {
   "cell_type": "code",
   "execution_count": 11,
   "metadata": {},
   "outputs": [],
   "source": [
    "def check_images():\n",
    "    z = get_latent([batch_size, latent_size])   \n",
    "    image_check = np.array(generator(z).tolist())\n",
    "    image_check = image_check.reshape([-1, 28, 28])\n",
    "    idx = np.random.choice(image_check.shape[0])\n",
    "    sns.heatmap(image_check[idx])"
   ]
  },
  {
   "cell_type": "code",
   "execution_count": 12,
   "metadata": {},
   "outputs": [
    {
     "data": {
      "image/png": "[encoded data removed]",
      "text/plain": [
       "<matplotlib.figure.Figure at 0x1163e9780>"
      ]
     },
     "metadata": {},
     "output_type": "display_data"
    }
   ],
   "source": [
    "check_images()"
   ]
  },
  {
   "cell_type": "code",
   "execution_count": null,
   "metadata": {
    "collapsed": true
   },
   "outputs": [],
   "source": []
  }
 ],
 "metadata": {
  "kernelspec": {
   "display_name": "Python 3",
   "language": "python",
   "name": "python3"
  },
  "language_info": {
   "codemirror_mode": {
    "name": "ipython",
    "version": 3
   },
   "file_extension": ".py",
   "mimetype": "text/x-python",
   "name": "python",
   "nbconvert_exporter": "python",
   "pygments_lexer": "ipython3",
   "version": "3.6.1"
  }
 },
 "nbformat": 4,
 "nbformat_minor": 2
}
